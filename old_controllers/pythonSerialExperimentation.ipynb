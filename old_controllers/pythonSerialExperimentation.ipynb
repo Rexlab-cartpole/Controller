{
 "cells": [
  {
   "cell_type": "code",
   "execution_count": 29,
   "metadata": {},
   "outputs": [],
   "source": [
    "# import Serial libraries\n",
    "import serial\n",
    "import serial.tools.list_ports\n",
    "import time\n",
    "import numpy as np\n",
    "import matplotlib.pyplot as plt\n",
    "# from tqdm import tqdm\n",
    "from cartpole_lib_python import *"
   ]
  },
  {
   "cell_type": "code",
   "execution_count": 215,
   "metadata": {},
   "outputs": [
    {
     "name": "stdout",
     "output_type": "stream",
     "text": [
      "/dev/ttyACM1 - Feather ESP32-S2 - TinyUSB CDC\n"
     ]
    }
   ],
   "source": [
    "# list serial ports\n",
    "ports = list(serial.tools.list_ports.comports())\n",
    "for p in ports:\n",
    "    print(p)"
   ]
  },
  {
   "cell_type": "code",
   "execution_count": 216,
   "metadata": {},
   "outputs": [],
   "source": [
    "serial_port = '/dev/ttyACM1'"
   ]
  },
  {
   "cell_type": "code",
   "execution_count": 232,
   "metadata": {},
   "outputs": [
    {
     "name": "stdout",
     "output_type": "stream",
     "text": [
      "12.848,0.000,4.720,0.000,4.453,0.000,0.000,0.000,\n",
      "\n"
     ]
    }
   ],
   "source": [
    "# read a line of data from the serial port\n",
    "\n",
    "# open the serial port\n",
    "ser = serial.Serial(serial_port, 256000, timeout=1)\n",
    "encoderData = ser.readline()\n",
    "encoderData = ser.readline()\n",
    "encoderData = encoderData.decode()\n",
    "command = \"<1, 0>\"\n",
    "ser.write(command.encode())\n",
    "ser.close()\n",
    "\n",
    "print(encoderData)"
   ]
  },
  {
   "cell_type": "code",
   "execution_count": 234,
   "metadata": {},
   "outputs": [],
   "source": [
    "# generate a sin wave with ampliftude variable and frequency of 1 haz \n",
    "\n",
    "Tf = 4\n",
    "dt = 1/100\n",
    "\n",
    "t = np.linspace(0, Tf*np.pi, int(Tf/dt))\n",
    "torques = np.sin(t)\n",
    "# print(torques)\n",
    "ser = serial.Serial(serial_port, 256000, timeout=1)\n",
    "for torque in torques:\n",
    "    end = time.time() + dt\n",
    "    while(time.time() < end):\n",
    "        ser.write((\"<\" + str(torque) + \",0>\").encode())\n",
    "        encoderData = ser.readline()\n",
    "        encoderData = encoderData.decode()\n",
    "\n",
    "ser.close()"
   ]
  },
  {
   "cell_type": "code",
   "execution_count": 64,
   "metadata": {},
   "outputs": [
    {
     "ename": "SerialException",
     "evalue": "device reports readiness to read but returned no data (device disconnected or multiple access on port?)",
     "output_type": "error",
     "traceback": [
      "\u001b[0;31m---------------------------------------------------------------------------\u001b[0m",
      "\u001b[0;31mSerialException\u001b[0m                           Traceback (most recent call last)",
      "\u001b[1;32m/home/sam/Git/Controller/old_controllers/pythonSerialExperimentation.ipynb Cell 6\u001b[0m line \u001b[0;36m1\n\u001b[1;32m      <a href='vscode-notebook-cell://wsl%2Bubuntu-22.04/home/sam/Git/Controller/old_controllers/pythonSerialExperimentation.ipynb#W5sdnNjb2RlLXJlbW90ZQ%3D%3D?line=8'>9</a>\u001b[0m     \u001b[39mwhile\u001b[39;00m(time\u001b[39m.\u001b[39mtime() \u001b[39m<\u001b[39m end):\n\u001b[1;32m     <a href='vscode-notebook-cell://wsl%2Bubuntu-22.04/home/sam/Git/Controller/old_controllers/pythonSerialExperimentation.ipynb#W5sdnNjb2RlLXJlbW90ZQ%3D%3D?line=9'>10</a>\u001b[0m         ser\u001b[39m.\u001b[39mwrite((\u001b[39m\"\u001b[39m\u001b[39m<\u001b[39m\u001b[39m\"\u001b[39m \u001b[39m+\u001b[39m \u001b[39mstr\u001b[39m(torque) \u001b[39m+\u001b[39m \u001b[39m\"\u001b[39m\u001b[39m,\u001b[39m\u001b[39m\"\u001b[39m \u001b[39m+\u001b[39m \u001b[39mstr\u001b[39m(torque) \u001b[39m+\u001b[39m \u001b[39m\"\u001b[39m\u001b[39m>\u001b[39m\u001b[39m\"\u001b[39m)\u001b[39m.\u001b[39mencode())\n\u001b[0;32m---> <a href='vscode-notebook-cell://wsl%2Bubuntu-22.04/home/sam/Git/Controller/old_controllers/pythonSerialExperimentation.ipynb#W5sdnNjb2RlLXJlbW90ZQ%3D%3D?line=10'>11</a>\u001b[0m         ser\u001b[39m.\u001b[39;49mreadline()\n\u001b[1;32m     <a href='vscode-notebook-cell://wsl%2Bubuntu-22.04/home/sam/Git/Controller/old_controllers/pythonSerialExperimentation.ipynb#W5sdnNjb2RlLXJlbW90ZQ%3D%3D?line=12'>13</a>\u001b[0m ser\u001b[39m.\u001b[39mclose()\n",
      "File \u001b[0;32m~/Git/Controller/env/lib/python3.10/site-packages/serial/serialposix.py:595\u001b[0m, in \u001b[0;36mSerial.read\u001b[0;34m(self, size)\u001b[0m\n\u001b[1;32m    588\u001b[0m \u001b[39melse\u001b[39;00m:\n\u001b[1;32m    589\u001b[0m     \u001b[39m# read should always return some data as select reported it was\u001b[39;00m\n\u001b[1;32m    590\u001b[0m     \u001b[39m# ready to read when we get to this point.\u001b[39;00m\n\u001b[1;32m    591\u001b[0m     \u001b[39mif\u001b[39;00m \u001b[39mnot\u001b[39;00m buf:\n\u001b[1;32m    592\u001b[0m         \u001b[39m# Disconnected devices, at least on Linux, show the\u001b[39;00m\n\u001b[1;32m    593\u001b[0m         \u001b[39m# behavior that they are always ready to read immediately\u001b[39;00m\n\u001b[1;32m    594\u001b[0m         \u001b[39m# but reading returns nothing.\u001b[39;00m\n\u001b[0;32m--> 595\u001b[0m         \u001b[39mraise\u001b[39;00m SerialException(\n\u001b[1;32m    596\u001b[0m             \u001b[39m'\u001b[39m\u001b[39mdevice reports readiness to read but returned no data \u001b[39m\u001b[39m'\u001b[39m\n\u001b[1;32m    597\u001b[0m             \u001b[39m'\u001b[39m\u001b[39m(device disconnected or multiple access on port?)\u001b[39m\u001b[39m'\u001b[39m)\n\u001b[1;32m    598\u001b[0m     read\u001b[39m.\u001b[39mextend(buf)\n\u001b[1;32m    600\u001b[0m \u001b[39mif\u001b[39;00m timeout\u001b[39m.\u001b[39mexpired():\n",
      "\u001b[0;31mSerialException\u001b[0m: device reports readiness to read but returned no data (device disconnected or multiple access on port?)"
     ]
    }
   ],
   "source": [
    "# Cycle through 10 torque values starting from 0, to 10 each for 1 second \n",
    "\n",
    "torques = np.linspace(1, 2, 10)\n",
    "duration = 1\n",
    "\n",
    "ser = serial.Serial(serial_port, 256000, timeout=1)\n",
    "for torque in torques:\n",
    "    end = time.time() + duration\n",
    "    while(time.time() < end):\n",
    "        ser.write((\"<\" + str(torque) + \",\" + str(torque) + \">\").encode())\n",
    "        ser.readline()\n",
    "\n",
    "ser.close()"
   ]
  },
  {
   "cell_type": "code",
   "execution_count": 4,
   "metadata": {},
   "outputs": [],
   "source": [
    "decode_list = [\n",
    "\"linear_position\", \n",
    "\"linear_velocity\", \n",
    "\"shoulder_position\", \n",
    "\"shoulder_velocity\", \n",
    "\"elbow_position\", \n",
    "\"elbow_velocity\",\n",
    "\"requested_vel_1\",\n",
    "\"requested_vel_2\",\n",
    "\"serial_tx_time\",\n",
    "# \"time_since_last_command\",\n",
    "]\n",
    "\n",
    "def safe_read(ser):\n",
    "    timeout = 10\n",
    "    while(timeout > 0):\n",
    "        encoderData = ser.readline()\n",
    "        try: # catch byte errors in encoderData.decode\n",
    "            encoderData = encoderData.decode()\n",
    "            encoderData = encoderData.split(\",\")\n",
    "            if len(encoderData) - 1 == len(decode_list): # account for the \\r\\n \n",
    "                return encoderData[:-1]\n",
    "            timeout -= 1\n",
    "        except:\n",
    "            timeout -= 1\n",
    "    raise Exception(\"Timeout during Read\")\n"
   ]
  },
  {
   "cell_type": "code",
   "execution_count": 6,
   "metadata": {},
   "outputs": [],
   "source": [
    "# https://stackoverflow.com/questions/1133857/how-accurate-is-pythons-time-sleep\n",
    "import time\n",
    "\n",
    "def busy_sleep(duration, get_now=time.perf_counter):\n",
    "    now = get_now()\n",
    "    end = now + duration\n",
    "    while now < end:\n",
    "        now = get_now()"
   ]
  },
  {
   "cell_type": "code",
   "execution_count": 6,
   "metadata": {},
   "outputs": [],
   "source": [
    "# latency tester function\n",
    "# every 100 ms send an alternating command to the robot\n",
    "# see how long it takes for the robot to mirror the command \n",
    "\n",
    "def test_serial_latencies():\n",
    "    test_runs = 10\n",
    "    test_runs_dup = test_runs\n",
    "    sleep_duration = 0.001 # 1 ms\n",
    "    command_period = 0.01 # 10 ms\n",
    "    command_freq = command_period / sleep_duration\n",
    "    command_1 = \"<0.0, 0.0>\"\n",
    "    command_2 = \"<1.0, 1.0>\"\n",
    "\n",
    "    # open the serial port\n",
    "    ser = serial.Serial('/dev/cu.usbserial-56230387121', 256000, timeout=1)\n",
    "    # flush the serial port\n",
    "    ser.flush()\n",
    "\n",
    "    _toggle = False\n",
    "    # motor_encoder_velocity_buffer\n",
    "    serial_vel_buffer = []\n",
    "    loop_time_buffer = []\n",
    "    requested_vel_buffer = []\n",
    "    delay_buffer = []\n",
    "    delay_count = 0\n",
    "    counter = 0\n",
    "    while(test_runs > 0):\n",
    "        start = time.perf_counter()\n",
    "\n",
    "        if counter % command_freq == 0:\n",
    "            _toggle = not _toggle\n",
    "            test_runs -= 1\n",
    "            delay_buffer.append(delay_count)\n",
    "            delay_count = 0\n",
    "\n",
    "        if _toggle:\n",
    "            ser.write(command_1.encode())\n",
    "            requested_vel_buffer.append(0.0)\n",
    "        else: \n",
    "            ser.write(command_2.encode())\n",
    "            requested_vel_buffer.append(1.0)\n",
    "\n",
    "        encoderData = safe_read(ser)\n",
    "        serial_vel_buffer.append(encoderData[6])\n",
    "\n",
    "        if (float(serial_vel_buffer[-1]) != float(requested_vel_buffer[-1])):\n",
    "            delay_count += 1\n",
    "\n",
    "        end = time.perf_counter()\n",
    "        loop_time_buffer.append(end - start)\n",
    "\n",
    "        counter += 1\n",
    "        busy_sleep(sleep_duration)\n",
    "\n",
    "    # close the serial port\n",
    "    ser.write(command_1.encode())\n",
    "    ser.close()\n",
    "\n",
    "    # plot the loop time\n",
    "    plt.title(\"Python loop time (s)\")\n",
    "    plt.plot(loop_time_buffer)\n",
    "    plt.show()\n",
    "\n",
    "    # plot the requested velocity vs the actual velocity\n",
    "    plt.title(\"Requested Velocity vs Actual Velocity\")\n",
    "    x_axis = np.arange(0,counter) * sleep_duration\n",
    "    print(len(x_axis), len(requested_vel_buffer), len(serial_vel_buffer))\n",
    "    # put dots on each point \n",
    "    plt.plot(x_axis, requested_vel_buffer, label=\"Requested Velocity\", marker='o')\n",
    "    plt.plot(x_axis, serial_vel_buffer, label=\"Recievec Velocity\", marker='o')\n",
    "    plt.legend()\n",
    "    plt.show()\n",
    "\n",
    "    # plot cycles it takes for the robot to mirror the command\n",
    "    plt.title(\"Cycles it takes for the robot to mirror the command\")\n",
    "    plt.plot(delay_buffer, marker='o')\n",
    "    plt.show()\n",
    "\n",
    "        "
   ]
  },
  {
   "cell_type": "code",
   "execution_count": 7,
   "metadata": {},
   "outputs": [],
   "source": [
    "test_serial_latencies()"
   ]
  },
  {
   "cell_type": "code",
   "execution_count": null,
   "metadata": {},
   "outputs": [],
   "source": [
    "# Test goals: To see time taken from command generation to motion of the robot\n",
    "\n",
    "# Graphs to make:\n",
    "# Single graph with requested velocity command, recieved velocity command (serial), and then actual velocity (encoder)\n",
    "\n",
    "# latency tester function\n",
    "# every 100 ms send an alternating command to the robot\n",
    "# see how long it takes for the robot to mirror the command \n",
    "\n",
    "def test_motor_latencies():\n",
    "    test_runs = 2\n",
    "    test_runs_dup = test_runs\n",
    "    sleep_duration = 0.001 # 1 ms\n",
    "    command_period = 0.05 # 1000 ms\n",
    "    command_freq = command_period / sleep_duration\n",
    "    command_1 = \"<-100.0, -100.0>\"\n",
    "    command_2 = \"<100.0, 100.0>\"\n",
    "    command_3 = \"<0.0, 0.0>\"\n",
    "\n",
    "    # open the serial port\n",
    "    ser = serial.Serial('/dev/cu.usbserial-56230387121', 256000, timeout=1)\n",
    "    # flush the serial port\n",
    "    ser.flush()\n",
    "\n",
    "    _toggle = False\n",
    "    serial_vel_buffer = []\n",
    "    motor_encoder_velocity_buffer = []\n",
    "    loop_time_buffer = []\n",
    "    requested_vel_buffer = []\n",
    "    delay_buffer = []\n",
    "    delay_count = 0\n",
    "    counter = 0\n",
    "    while(test_runs > 0):\n",
    "        start = time.perf_counter()\n",
    "\n",
    "        if counter % command_freq == 0:\n",
    "            _toggle = not _toggle\n",
    "            test_runs -= 1\n",
    "            delay_buffer.append(delay_count)\n",
    "            delay_count = 0\n",
    "\n",
    "        if _toggle:\n",
    "            ser.write(command_1.encode())\n",
    "            requested_vel_buffer.append(0.0)\n",
    "        else: \n",
    "            ser.write(command_2.encode())\n",
    "            requested_vel_buffer.append(1.0)\n",
    "\n",
    "        encoderData = safe_read(ser)\n",
    "        serial_vel_buffer.append(encoderData[6])\n",
    "        motor_encoder_velocity_buffer.append(encoderData[5])\n",
    "\n",
    "        if (float(serial_vel_buffer[-1]) != float(requested_vel_buffer[-1])):\n",
    "            delay_count += 1\n",
    "\n",
    "        end = time.perf_counter()\n",
    "        loop_time_buffer.append(end - start)\n",
    "\n",
    "        counter += 1\n",
    "        busy_sleep(sleep_duration)\n",
    "\n",
    "    # close the serial port\n",
    "    ser.write(command_3.encode())\n",
    "    ser.close()\n",
    "\n",
    "    x_axis = np.arange(0,counter) * sleep_duration\n",
    "\n",
    "    return counter, sleep_duration, x_axis, requested_vel_buffer, serial_vel_buffer, motor_encoder_velocity_buffer\n",
    "\n"
   ]
  },
  {
   "cell_type": "code",
   "execution_count": null,
   "metadata": {},
   "outputs": [],
   "source": [
    "counter, sleep_duration, x_axis, requested_vel_buffer, serial_vel_buffer, motor_encoder_velocity_buffer = test_motor_latencies()"
   ]
  },
  {
   "cell_type": "code",
   "execution_count": null,
   "metadata": {},
   "outputs": [
    {
     "name": "stdout",
     "output_type": "stream",
     "text": [
      "51 51 51\n"
     ]
    },
    {
     "data": {
      "image/png": "[encoded data removed]",
      "text/plain": [
       "<Figure size 640x480 with 1 Axes>"
      ]
     },
     "metadata": {},
     "output_type": "display_data"
    }
   ],
   "source": [
    "start = 0\n",
    "end = 10\n",
    "# plot the requested velocity vs the actual velocity\n",
    "plt.title(\"Requested Velocity vs Actual Velocity\")\n",
    "print(len(x_axis), len(requested_vel_buffer), len(serial_vel_buffer))\n",
    "# put dots on each point \n",
    "plt.plot(x_axis[start: end], requested_vel_buffer[start: end], label=\"Requested Velocity\", marker='o')\n",
    "plt.plot(x_axis[start: end], serial_vel_buffer[start: end], label=\"Recieved Velocity\", marker='o')\n",
    "plt.plot(x_axis[start: end], np.asarray(motor_encoder_velocity_buffer[start: end], float), label=\"Motor Velocity\", marker='o')\n",
    "# reduce number of ticks on the y axis\n",
    "# plt.locator_params(axis='y', nbins=6)\n",
    "plt.legend()\n",
    "plt.show()"
   ]
  },
  {
   "cell_type": "code",
   "execution_count": null,
   "metadata": {},
   "outputs": [
    {
     "name": "stdout",
     "output_type": "stream",
     "text": [
      "51 51 51\n"
     ]
    },
    {
     "data": {
      "image/png": "[encoded data removed]",
      "text/plain": [
       "<Figure size 640x480 with 1 Axes>"
      ]
     },
     "metadata": {},
     "output_type": "display_data"
    }
   ],
   "source": [
    "start = 0\n",
    "end = -1\n",
    "# plot the requested velocity vs the actual velocity\n",
    "plt.title(\"Requested Velocity vs Actual Velocity\")\n",
    "print(len(x_axis), len(requested_vel_buffer), len(serial_vel_buffer))\n",
    "# put dots on each point \n",
    "plt.plot(x_axis[start: end], requested_vel_buffer[start: end], label=\"Requested Velocity\", marker='o')\n",
    "plt.plot(x_axis[start: end], serial_vel_buffer[start: end], label=\"Recieved Velocity\", marker='o')\n",
    "plt.plot(x_axis[start: end], np.asarray(motor_encoder_velocity_buffer[start: end], float), label=\"Motor Velocity\", marker='o')\n",
    "# reduce number of ticks on the y axis\n",
    "# plt.locator_params(axis='y', nbins=6)\n",
    "plt.legend()\n",
    "plt.show()\n"
   ]
  },
  {
   "attachments": {},
   "cell_type": "markdown",
   "metadata": {},
   "source": [
    "# recreate the same test as in julia"
   ]
  },
  {
   "cell_type": "code",
   "execution_count": null,
   "metadata": {},
   "outputs": [],
   "source": [
    "# latency tester function\n",
    "# every 100 ms send an alternating command to the robot\n",
    "# see how long it takes for the robot to mirror the command \n",
    "\n",
    "def test_serial_latencies():\n",
    "    test_runs = 10\n",
    "    test_runs_dup = test_runs\n",
    "    sleep_duration = 0.001 # 1 ms\n",
    "    command_period = 0.01 # 10 ms\n",
    "    command_freq = command_period / sleep_duration\n",
    "    command_1 = \"<0.0, 0.0>\"\n",
    "    command_2 = \"<1.0, 1.0>\"\n",
    "\n",
    "    # open the serial port\n",
    "    ser = serial.Serial('/dev/cu.usbserial-56230387121', 256000, timeout=1)\n",
    "    # flush the serial port\n",
    "    ser.flush()\n",
    "\n",
    "    _toggle = False\n",
    "    # motor_encoder_velocity_buffer\n",
    "    serial_vel_buffer = []\n",
    "    loop_time_buffer = []\n",
    "    requested_vel_buffer = []\n",
    "    delay_buffer = []\n",
    "    delay_count = 0\n",
    "    counter = 0\n",
    "    while(test_runs > 0):\n",
    "        start = time.perf_counter()\n",
    "\n",
    "        if counter % command_freq == 0:\n",
    "            _toggle = not _toggle\n",
    "            test_runs -= 1\n",
    "            delay_buffer.append(delay_count)\n",
    "            delay_count = 0\n",
    "\n",
    "        if _toggle:\n",
    "            ser.write(command_1.encode())\n",
    "            requested_vel_buffer.append(0.0)\n",
    "        else: \n",
    "            ser.write(command_2.encode())\n",
    "            requested_vel_buffer.append(1.0)\n",
    "\n",
    "        encoderData = safe_read(ser)\n",
    "        serial_vel_buffer.append(encoderData[6])\n",
    "\n",
    "        if (float(serial_vel_buffer[-1]) != float(requested_vel_buffer[-1])):\n",
    "            delay_count += 1\n",
    "\n",
    "        end = time.perf_counter()\n",
    "        loop_time_buffer.append(end - start)\n",
    "\n",
    "        counter += 1\n",
    "        busy_sleep(sleep_duration)\n",
    "\n",
    "    # close the serial port\n",
    "    ser.write(command_1.encode())\n",
    "    ser.close()\n",
    "\n",
    "    # plot the loop time\n",
    "    plt.title(\"Python loop time (s)\")\n",
    "    plt.plot(loop_time_buffer)\n",
    "    plt.show()\n",
    "\n",
    "    # plot the requested velocity vs the actual velocity\n",
    "    plt.title(\"Requested Velocity vs Actual Velocity\")\n",
    "    x_axis = np.arange(0,counter) * sleep_duration\n",
    "    print(len(x_axis), len(requested_vel_buffer), len(serial_vel_buffer))\n",
    "    # put dots on each point \n",
    "    plt.plot(x_axis, requested_vel_buffer, label=\"Requested Velocity\", marker='o')\n",
    "    plt.plot(x_axis, serial_vel_buffer, label=\"Recievec Velocity\", marker='o')\n",
    "    plt.legend()\n",
    "    plt.show()\n",
    "\n",
    "    # plot cycles it takes for the robot to mirror the command\n",
    "    plt.title(\"Cycles it takes for the robot to mirror the command\")\n",
    "    plt.plot(delay_buffer, marker='o')\n",
    "    plt.show()\n",
    "\n",
    "        "
   ]
  }
 ],
 "metadata": {
  "kernelspec": {
   "display_name": "Python 3",
   "language": "python",
   "name": "python3"
  },
  "language_info": {
   "codemirror_mode": {
    "name": "ipython",
    "version": 3
   },
   "file_extension": ".py",
   "mimetype": "text/x-python",
   "name": "python",
   "nbconvert_exporter": "python",
   "pygments_lexer": "ipython3",
   "version": "3.10.12"
  },
  "orig_nbformat": 4
 },
 "nbformat": 4,
 "nbformat_minor": 2
}
