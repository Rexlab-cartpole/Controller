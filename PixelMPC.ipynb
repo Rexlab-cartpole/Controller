{
 "cells": [
  {
   "cell_type": "code",
   "execution_count": 1,
   "metadata": {},
   "outputs": [],
   "source": [
    "import cv2\n",
    "import numpy as np\n",
    "import time\n",
    "from matplotlib import pyplot as plt"
   ]
  },
  {
   "cell_type": "code",
   "execution_count": 2,
   "metadata": {},
   "outputs": [],
   "source": [
    "def busy_sleep(duration, loop_start, get_now=time.perf_counter):\n",
    "    now = get_now()\n",
    "\n",
    "    end = duration + loop_start\n",
    "\n",
    "    while now < end:\n",
    "        now = get_now()"
   ]
  },
  {
   "cell_type": "code",
   "execution_count": 16,
   "metadata": {},
   "outputs": [
    {
     "name": "stdout",
     "output_type": "stream",
     "text": [
      "took 5.0654754638671875 seconds\n"
     ]
    }
   ],
   "source": [
    "vid = cv2.VideoCapture(1, cv2.CAP_DSHOW)\n",
    "vid.set(cv2.CAP_PROP_FPS, 60)\n",
    "# vid.set(cv2.CAP_PROP_FRAME_WIDTH, 640)\n",
    "# vid.set(cv2.CAP_PROP_FRAME_HEIGHT, 480)\n",
    "\n",
    "# control_frequencies = [20,21,22,23,24,25,26,27,28,29,30,31,32,33,34,35]\n",
    "control_frequencies = [30]\n",
    "control_periods = []\n",
    "loop_time_all = []\n",
    "task_time_all = []\n",
    "frames_all = []\n",
    "\n",
    "for control_frequency in control_frequencies:\n",
    "    # control_frequency = 20 # Hz\n",
    "    control_period = 1/control_frequency\n",
    "    control_periods.append(control_period)\n",
    "    loop_time = []\n",
    "    task_time = []\n",
    "    frames = []\n",
    "\n",
    "\n",
    "    i = 0\n",
    "\n",
    "    # while(True):\n",
    "    start = time.time()\n",
    "    while i < control_frequency*5:\n",
    "    # while i < 1:\n",
    "        i = i + 1\n",
    "        time_start = time.perf_counter()\n",
    "        ret, frame = vid.read()\n",
    "        if ret:\n",
    "            frames.append(frame)\n",
    "        else:\n",
    "            print(\"no ret\")\n",
    "        \n",
    "        # if recording:\n",
    "        #     # save frame\n",
    "        #     # cv2.putText(frame, \"Recording\", (10,30), cv2.FONT_HERSHEY_SIMPLEX, 1, (0, 0, 255))\n",
    "        #     cv2.imshow('recording', frame)\n",
    "        # else:\n",
    "        # cv2.imshow('frame', frame)\n",
    "\n",
    "        # if cv2.waitKey(1) & 0xFF == ord('q'):\n",
    "        #     break\n",
    "        # if cv2.waitKey(1) & 0xFF == ord('r'):\n",
    "        #     recording = not recording\n",
    "        #     print(recording)\n",
    "\n",
    "        task_time.append(time.perf_counter() - time_start)\n",
    "        busy_sleep(control_period, time_start)\n",
    "        loop_time.append(time.perf_counter() - time_start)\n",
    "    \n",
    "    loop_time_all.append(loop_time)\n",
    "    task_time_all.append(task_time)\n",
    "    frames_all.append(frames)\n",
    "\n",
    "    print(\"took {} seconds\".format(time.time() - start))\n",
    "\n",
    "# After the loop release the cap object q\n",
    "vid.release() \n",
    "# Destroy all the windows \n",
    "cv2.destroyAllWindows() "
   ]
  },
  {
   "cell_type": "code",
   "execution_count": 18,
   "metadata": {},
   "outputs": [
    {
     "name": "stdout",
     "output_type": "stream",
     "text": [
      "150\n"
     ]
    }
   ],
   "source": [
    "print(len(frames))\n",
    "for frame in frames:\n",
    "    cv2.imshow('frame', frame)\n",
    "    # cv2.waitKey(1)\n",
    "    if cv2.waitKey(int(1000*control_period)) & 0xFF == ord('q'):\n",
    "        break\n",
    "cv2.destroyAllWindows()"
   ]
  },
  {
   "cell_type": "code",
   "execution_count": 17,
   "metadata": {},
   "outputs": [
    {
     "data": {
      "text/plain": [
       "Text(0.5, 0, 'iteration')"
      ]
     },
     "execution_count": 17,
     "metadata": {},
     "output_type": "execute_result"
    },
    {
     "data": {
      "image/png": "[encoded data removed]",
      "text/plain": [
       "<Figure size 640x480 with 1 Axes>"
      ]
     },
     "metadata": {},
     "output_type": "display_data"
    }
   ],
   "source": [
    "i = 0\n",
    "# for task_time, loop_time, control_period in zip(task_time_all, loop_time_all, control_periods):\n",
    "#     plt.plot(np.array(task_time))\n",
    "#     plt.plot(np.array(loop_time))\n",
    "#     plt.plot(np.array([control_period for _ in range(len(task_time))]))\n",
    "\n",
    "plt.scatter(range(len(task_time_all[i])), np.array(task_time_all[i]), s=2)\n",
    "plt.scatter(range(len(task_time_all[i])), np.array(loop_time_all[i]), s=2)\n",
    "plt.plot(np.array([control_periods[i] for _ in range(len(task_time_all[i]))]))\n",
    "    \n",
    "plt.ylim([0,.1])\n",
    "plt.legend([\"tta[0]\", \"lta[0]\", \"cp[0]\", \"tta[1]\", \"lta[1]\", \"cp[1]\"])\n",
    "# plt.legend([\"processing time\", \"total loop time\", \"control period\"])\n",
    "plt.ylabel(\"time (s)\")\n",
    "plt.xlabel(\"iteration\")"
   ]
  },
  {
   "cell_type": "code",
   "execution_count": 6,
   "metadata": {},
   "outputs": [
    {
     "data": {
      "text/plain": [
       "0.03226247419354835"
      ]
     },
     "execution_count": 6,
     "metadata": {},
     "output_type": "execute_result"
    }
   ],
   "source": [
    "np.average(np.array(task_time))"
   ]
  }
 ],
 "metadata": {
  "kernelspec": {
   "display_name": "env",
   "language": "python",
   "name": "python3"
  },
  "language_info": {
   "codemirror_mode": {
    "name": "ipython",
    "version": 3
   },
   "file_extension": ".py",
   "mimetype": "text/x-python",
   "name": "python",
   "nbconvert_exporter": "python",
   "pygments_lexer": "ipython3",
   "version": "3.9.13"
  }
 },
 "nbformat": 4,
 "nbformat_minor": 2
}
