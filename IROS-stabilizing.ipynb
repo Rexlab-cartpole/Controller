{
 "cells": [
  {
   "cell_type": "code",
   "execution_count": 1,
   "metadata": {},
   "outputs": [],
   "source": [
    "import numpy as np\n",
    "import matplotlib.pyplot as plt\n",
    "from cartpole_lib_python import *\n",
    "import odrive"
   ]
  },
  {
   "cell_type": "code",
   "execution_count": 2,
   "metadata": {},
   "outputs": [],
   "source": [
    "odrv0 = odrive.find_any()"
   ]
  },
  {
   "cell_type": "code",
   "execution_count": 3,
   "metadata": {},
   "outputs": [
    {
     "name": "stdout",
     "output_type": "stream",
     "text": [
      "\u001b[0;39;49maxis0\n",
      "  active_errors: \u001b[0;92;49;1mno error\u001b[0;39;49m\n",
      "  disarm_reason: \u001b[0;92;49;1mno error\u001b[0;39;49m\n",
      "  procedure_result: \u001b[0;92;49;1mProcedureResult.SUCCESS\u001b[0;39;49m\n",
      "  last_drv_fault: \u001b[0;92;49;1mnone\u001b[0;39;49m\n",
      "internal issues: \u001b[0;92;49;1mnone\u001b[0m\n",
      "\u001b[0;39;49maxis0\n",
      "  active_errors: \u001b[0;92;49;1mno error\u001b[0;39;49m\n",
      "  disarm_reason: \u001b[0;92;49;1mno error\u001b[0;39;49m\n",
      "  procedure_result: \u001b[0;92;49;1mProcedureResult.SUCCESS\u001b[0;39;49m\n",
      "  last_drv_fault: \u001b[0;92;49;1mnone\u001b[0;39;49m\n",
      "internal issues: \u001b[0;92;49;1mnone\u001b[0m\n",
      "\u001b[0;39;49maxis0\n",
      "  active_errors: \u001b[0;92;49;1mno error\u001b[0;39;49m\n",
      "  disarm_reason: \u001b[0;92;49;1mno error\u001b[0;39;49m\n",
      "  procedure_result: \u001b[0;92;49;1mProcedureResult.SUCCESS\u001b[0;39;49m\n",
      "  last_drv_fault: \u001b[0;92;49;1mnone\u001b[0;39;49m\n",
      "internal issues: \u001b[0;92;49;1mnone\u001b[0m\n",
      "odrive initialized\n"
     ]
    }
   ],
   "source": [
    "init_odrive()"
   ]
  },
  {
   "cell_type": "code",
   "execution_count": 6,
   "metadata": {},
   "outputs": [
    {
     "name": "stdout",
     "output_type": "stream",
     "text": [
      "\u001b[0;39;49maxis0\n",
      "  active_errors: \u001b[0;92;49;1mno error\u001b[0;39;49m\n",
      "  disarm_reason: \u001b[0;92;49;1mno error\u001b[0;39;49m\n",
      "  procedure_result: \u001b[0;92;49;1mProcedureResult.SUCCESS\u001b[0;39;49m\n",
      "  last_drv_fault: \u001b[0;92;49;1mnone\u001b[0;39;49m\n",
      "internal issues: \u001b[0;92;49;1mnone\u001b[0m\n"
     ]
    }
   ],
   "source": [
    "odrv = get_odrive()\n",
    "odrive.utils.dump_errors(odrv)"
   ]
  },
  {
   "cell_type": "code",
   "execution_count": 7,
   "metadata": {},
   "outputs": [],
   "source": [
    "def busy_sleep1(duration, loop_start, get_now=time.time):\n",
    "    # now = time.perf_counter()\n",
    "    now = get_now()\n",
    "\n",
    "    end = duration + loop_start\n",
    "\n",
    "    while now < end:\n",
    "        # now = time.perf_counter()\n",
    "        now = get_now()\n"
   ]
  },
  {
   "cell_type": "code",
   "execution_count": 132,
   "metadata": {},
   "outputs": [
    {
     "name": "stdout",
     "output_type": "stream",
     "text": [
      "[0.02421487603305785, 1.5447186534008406, -8.837207472556526e-83, -0.0001306370542450086]\n"
     ]
    }
   ],
   "source": [
    "print(get_state())"
   ]
  },
  {
   "cell_type": "markdown",
   "metadata": {},
   "source": [
    "1.5447186534008406"
   ]
  },
  {
   "cell_type": "code",
   "execution_count": null,
   "metadata": {},
   "outputs": [],
   "source": [
    "control_frequency = 30 # Hz\n",
    "control_period = 1/control_frequency\n",
    "T = 2 # runtime, seconds\n",
    "N = int(T*control_frequency)\n",
    "print(\"N: \", N)\n",
    "\n",
    "k_matrix = np.array([-4.68901, -27.56145, -4.56255, -5.56030]) # 30hz\n",
    "\n",
    "control_clamp = 0.1\n",
    "xg = np.array([0, 1.5447186534008406, 0, 0])\n",
    "\n",
    "\n",
    "# 30 hz\n",
    "A = np.array([\n",
    " [1.0,  -0.00263967,  0.0333333,  -2.92458e-5],\n",
    " [0.0,   1.01727,     0.0,         0.0335247],\n",
    " [0.0,  -0.158834,    1.0,        -0.00263967],\n",
    " [0.0,   1.03916,     0.0,         1.01727]])\n",
    "\n",
    "B = np.array([\n",
    " [ 0.001166386647061344],\n",
    " [-0.0024900041079065627],\n",
    " [ 0.07004855111703442],\n",
    " [-0.1498278085801933]])\n",
    "\n",
    "\n",
    "H = np.array([[1, 0, 0, 0],\n",
    "              [0, 1, 0, 0]])\n",
    "\n",
    "meas_noise_cov = np.diag([.1,.1]) # most recent\n",
    "process_noise_cov = np.diag([1,1,50,50]) # position, angle, linear velocity, angular velocity\n",
    "\n",
    "nx = process_noise_cov.shape[0]\n",
    "def kf_update(x_meas, x_pred_prev, est_cov_prev):\n",
    "    Kn = est_cov_prev@H.T @ np.linalg.inv(H@est_cov_prev@H.T + meas_noise_cov)\n",
    "    x = x_pred_prev + Kn @ (x_meas - H@x_pred_prev)\n",
    "    est_cov = (np.eye(nx) - Kn@H) @ est_cov_prev @ (np.eye(nx) - Kn@H).T + Kn@meas_noise_cov@Kn.T\n",
    "    return x, est_cov\n",
    "\n",
    "def kf_predict(state, control, est_cov):\n",
    "    x_pred = A@state + B@control\n",
    "    est_cov_pred = A@est_cov@A.T + process_noise_cov\n",
    "    return x_pred, est_cov_pred\n",
    "\n",
    "# Initialize Kalman filter variables\n",
    "# First state estimate\n",
    "meas = get_measurement() - xg[:2]\n",
    "x = np.array([meas[0], meas[1], 0, 0])\n",
    "x_pred_prev = x\n",
    "# Estimation covariance\n",
    "est_cov = np.eye(4)*20\n",
    "est_cov_prev = est_cov\n",
    "\n",
    "for i in range(N):\n",
    "    time_start = time.perf_counter()\n",
    "    \n",
    "    measurement = get_measurement() - xg[:2]\n",
    "    if i > 0:\n",
    "        x, est_cov = kf_update(measurement, x_pred_prev, est_cov_prev)\n",
    "    \n",
    "    x[3] /= 2\n",
    "    control = -k_matrix @ x * 0.2\n",
    "    control = np.min(control_clamp, np.max(-control_clamp, control))\n",
    "    \n",
    "    x_pred_prev, est_cov_prev = kf_predict(x, [control], est_cov)\n",
    "    \n",
    "    command_linear_torque(-control)"
   ]
  }
 ],
 "metadata": {
  "kernelspec": {
   "display_name": "Python 3",
   "language": "python",
   "name": "python3"
  },
  "language_info": {
   "codemirror_mode": {
    "name": "ipython",
    "version": 3
   },
   "file_extension": ".py",
   "mimetype": "text/x-python",
   "name": "python",
   "nbconvert_exporter": "python",
   "pygments_lexer": "ipython3",
   "version": "3.6.9"
  }
 },
 "nbformat": 4,
 "nbformat_minor": 2
}
