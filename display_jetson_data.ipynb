{
 "cells": [
  {
   "cell_type": "code",
   "execution_count": 3,
   "metadata": {},
   "outputs": [],
   "source": [
    "import numpy as np\n",
    "import cv2\n",
    "import time\n",
    "import matplotlib.pyplot as plt"
   ]
  },
  {
   "cell_type": "code",
   "execution_count": 4,
   "metadata": {},
   "outputs": [],
   "source": [
    "npzfile = np.load(\"data_from_jetson/cartpole_train_data_attempt_14.npz\", allow_pickle=True)"
   ]
  },
  {
   "cell_type": "code",
   "execution_count": 5,
   "metadata": {},
   "outputs": [],
   "source": [
    "def busy_sleep(duration, loop_start = None, get_now=time.time):\n",
    "    now = get_now()\n",
    "\n",
    "    if loop_start is None:\n",
    "        end = now + duration\n",
    "    else: \n",
    "        end = loop_start + duration\n",
    "\n",
    "    while now < end:\n",
    "        now = get_now()\n"
   ]
  },
  {
   "cell_type": "code",
   "execution_count": 10,
   "metadata": {},
   "outputs": [],
   "source": [
    "frames = npzfile[\"frames\"]\n",
    "controls = npzfile[\"controls\"]\n",
    "measurements = npzfile[\"measurements\"]\n",
    "est_states = npzfile[\"est_states\"]\n",
    "\n",
    "# N = len(frames)\n",
    "\n",
    "# assert len(controls) == N\n",
    "# for i in range(len(measurements)):\n",
    "#     assert len(measurements[i]) == N\n",
    "# for i in range(len(est_states)):\n",
    "#     assert len(est_states[i]) == N"
   ]
  },
  {
   "cell_type": "code",
   "execution_count": 13,
   "metadata": {},
   "outputs": [],
   "source": [
    "control_period = 1/60\n",
    "N = frames.shape[2]\n",
    "for i in range(N):\n",
    "    time_start = time.perf_counter()\n",
    "    cv2.imshow('frame', frames[:,:,i].astype(float)/255)\n",
    "    if cv2.waitKey(1) & 0xFF == ord('q'):\n",
    "        break\n",
    "    busy_sleep(control_period, time_start, get_now=time.perf_counter)\n",
    "\n",
    "cv2.destroyAllWindows()"
   ]
  }
 ],
 "metadata": {
  "kernelspec": {
   "display_name": "env",
   "language": "python",
   "name": "python3"
  },
  "language_info": {
   "codemirror_mode": {
    "name": "ipython",
    "version": 3
   },
   "file_extension": ".py",
   "mimetype": "text/x-python",
   "name": "python",
   "nbconvert_exporter": "python",
   "pygments_lexer": "ipython3",
   "version": "3.9.13"
  }
 },
 "nbformat": 4,
 "nbformat_minor": 2
}
