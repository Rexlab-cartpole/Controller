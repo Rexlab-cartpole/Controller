{
 "cells": [
  {
   "cell_type": "code",
   "execution_count": 1,
   "metadata": {},
   "outputs": [],
   "source": [
    "import numpy as np\n",
    "from scipy import sparse\n",
    "import matplotlib.pyplot as plt\n"
   ]
  },
  {
   "cell_type": "code",
   "execution_count": 2,
   "metadata": {},
   "outputs": [],
   "source": [
    "def kf_pixel_update(ykp1, xkp1_pred):\n",
    "    # Update\n",
    "    xkp1_corrected = (np.eye(len(LC))-LC)@xkp1_pred + L@ykp1 + d\n",
    "\n",
    "    return xkp1_corrected"
   ]
  },
  {
   "cell_type": "markdown",
   "metadata": {},
   "source": [
    "Load data"
   ]
  },
  {
   "cell_type": "code",
   "execution_count": 3,
   "metadata": {},
   "outputs": [],
   "source": [
    "start_ind = 20\n",
    "end_ind = 1000"
   ]
  },
  {
   "cell_type": "code",
   "execution_count": 4,
   "metadata": {},
   "outputs": [],
   "source": [
    "data = np.load(\"data/cartpole_train_data_ten_minutes.npz\")"
   ]
  },
  {
   "cell_type": "code",
   "execution_count": 5,
   "metadata": {},
   "outputs": [],
   "source": [
    "measurements = data[\"measurements\"][start_ind:end_ind, :]\n",
    "pixels = data[\"frames\"][start_ind:end_ind, :]\n",
    "est_states = data[\"est_states\"][start_ind:end_ind, :]\n",
    "predicted_states = data[\"est_states_predicted\"][start_ind:end_ind, :]\n",
    "controls = data[\"filtered_controls\"][start_ind:end_ind, :]"
   ]
  },
  {
   "cell_type": "code",
   "execution_count": 6,
   "metadata": {},
   "outputs": [],
   "source": [
    "pixel_mat = np.array(pixels.transpose(1, 2, 0).reshape(-1, np.shape(pixels)[0]))\n",
    "est_state_mat = est_states.T\n",
    "predicted_state_mat = predicted_states.T\n",
    "control_mat = controls.T\n",
    "bias_mat = np.ones((1, np.shape(pixel_mat)[1]))"
   ]
  },
  {
   "cell_type": "markdown",
   "metadata": {},
   "source": [
    "Set up LLS problem"
   ]
  },
  {
   "cell_type": "code",
   "execution_count": 7,
   "metadata": {},
   "outputs": [],
   "source": [
    "rhs_mat = est_state_mat - predicted_state_mat\n",
    "lhs_mat = np.vstack((-predicted_state_mat[:2, :], pixel_mat, bias_mat))\n",
    "lhs_mat_test = np.vstack((-predicted_state_mat, pixel_mat, bias_mat))"
   ]
  },
  {
   "cell_type": "markdown",
   "metadata": {},
   "source": [
    "Solve LLS problem"
   ]
  },
  {
   "cell_type": "code",
   "execution_count": 8,
   "metadata": {},
   "outputs": [],
   "source": [
    "sol = np.linalg.lstsq(lhs_mat.T, rhs_mat.T, rcond=None)[0].T"
   ]
  },
  {
   "cell_type": "markdown",
   "metadata": {},
   "source": [
    "Extract KF matrices"
   ]
  },
  {
   "cell_type": "code",
   "execution_count": 9,
   "metadata": {},
   "outputs": [],
   "source": [
    "LC = np.hstack([sol[:, :2], np.zeros((4, 2))])\n",
    "L = sol[:, 2:-1]\n",
    "d = sol[:, -1]"
   ]
  },
  {
   "cell_type": "markdown",
   "metadata": {},
   "source": [
    "Save matrices"
   ]
  },
  {
   "cell_type": "code",
   "execution_count": 10,
   "metadata": {},
   "outputs": [],
   "source": [
    "np.savez(\"data/learned_kf_matrices.npz\", LC=LC, L=L, d=d)"
   ]
  },
  {
   "cell_type": "markdown",
   "metadata": {},
   "source": [
    "Test KF matrices"
   ]
  },
  {
   "cell_type": "code",
   "execution_count": 11,
   "metadata": {},
   "outputs": [
    {
     "name": "stdout",
     "output_type": "stream",
     "text": [
      "1.4610676467593713e-12\n"
     ]
    }
   ],
   "source": [
    "sol_mat_test = np.hstack([LC, L, d.reshape(-1, 1)])\n",
    "print(np.linalg.norm(rhs_mat - sol_mat_test @ lhs_mat_test))\n"
   ]
  },
  {
   "cell_type": "code",
   "execution_count": 12,
   "metadata": {},
   "outputs": [
    {
     "name": "stdout",
     "output_type": "stream",
     "text": [
      "4.6321240020525116e-14\n"
     ]
    }
   ],
   "source": [
    "print(np.linalg.norm(est_states[start_ind] - kf_pixel_update(pixels[start_ind].reshape(-1), predicted_states[start_ind])))"
   ]
  },
  {
   "cell_type": "code",
   "execution_count": 13,
   "metadata": {},
   "outputs": [
    {
     "name": "stdout",
     "output_type": "stream",
     "text": [
      "[-0.02020514  0.00306068  0.0360523  -0.00573253]\n"
     ]
    }
   ],
   "source": [
    "print(kf_pixel_update(pixels[start_ind].reshape(-1), predicted_states[start_ind]))"
   ]
  },
  {
   "cell_type": "code",
   "execution_count": 14,
   "metadata": {},
   "outputs": [
    {
     "name": "stdout",
     "output_type": "stream",
     "text": [
      "[-0.02020514  0.00306068  0.0360523  -0.00573253]\n"
     ]
    }
   ],
   "source": [
    "print(est_states[start_ind])"
   ]
  }
 ],
 "metadata": {
  "kernelspec": {
   "display_name": "Python 3",
   "language": "python",
   "name": "python3"
  },
  "language_info": {
   "codemirror_mode": {
    "name": "ipython",
    "version": 3
   },
   "file_extension": ".py",
   "mimetype": "text/x-python",
   "name": "python",
   "nbconvert_exporter": "python",
   "pygments_lexer": "ipython3",
   "version": "3.10.12"
  }
 },
 "nbformat": 4,
 "nbformat_minor": 2
}
