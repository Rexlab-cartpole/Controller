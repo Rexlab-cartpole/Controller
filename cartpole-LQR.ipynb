{
 "cells": [
  {
   "cell_type": "code",
   "execution_count": 13,
   "metadata": {},
   "outputs": [],
   "source": [
    "# import Pkg; Pkg.add(\"RobotDynamics\")\n",
    "# import Pkg; Pkg.add(\"ForwardDiff\")\n",
    "# import Pkg; Pkg.add(\"StaticArrays\")\n",
    "# import Pkg; Pkg.add(\"ControlSystems\")\n",
    "# import Pkg; Pkg.add(\"Plots\")"
   ]
  },
  {
   "cell_type": "code",
   "execution_count": 14,
   "metadata": {},
   "outputs": [
    {
     "name": "stderr",
     "output_type": "stream",
     "text": [
      "\u001b[32m\u001b[1m  Activating\u001b[22m\u001b[39m project at `~/Desktop/rexlab/cartpole_controls`\n"
     ]
    }
   ],
   "source": [
    "import Pkg;\n",
    "Pkg.activate(@__DIR__);\n",
    "Pkg.instantiate()\n",
    "\n",
    "using RobotZoo:Cartpole\n",
    "using RobotDynamics\n",
    "using ForwardDiff\n",
    "using LinearAlgebra\n",
    "using StaticArrays\n",
    "using SparseArrays\n",
    "using ControlSystems\n",
    "\n",
    "using Plots\n",
    "using Printf\n"
   ]
  },
  {
   "cell_type": "code",
   "execution_count": 32,
   "metadata": {},
   "outputs": [
    {
     "data": {
      "text/plain": [
       "4×4 Matrix{Float64}:\n",
       " 1.0  0.0  0.0  0.0\n",
       " 0.0  1.0  0.0  0.0\n",
       " 0.0  0.0  1.0  0.0\n",
       " 0.0  0.0  0.0  1.0"
      ]
     },
     "metadata": {},
     "output_type": "display_data"
    },
    {
     "data": {
      "text/plain": [
       "4×4 Matrix{Float64}:\n",
       " 1.0  -0.000315322  0.01  -3.15321e-6\n",
       " 0.0   1.0          0.0    0.01\n",
       " 0.0  -0.0630644    1.0   -0.000945965\n",
       " 0.0   0.000205753  0.0    1.0"
      ]
     },
     "metadata": {},
     "output_type": "display_data"
    },
    {
     "data": {
      "text/plain": [
       "4-element SVector{4, Float64} with indices SOneTo(4):\n",
       "  0.00017857144735971626\n",
       " -1.1916912407284371e-7\n",
       "  0.03571431201790314\n",
       " -4.7667726530774455e-5"
      ]
     },
     "metadata": {},
     "output_type": "display_data"
    },
    {
     "data": {
      "text/plain": [
       "1×4 Matrix{Float64}:\n",
       " -2.95828  -4980.71  -56.9846  -45180.2"
      ]
     },
     "metadata": {},
     "output_type": "display_data"
    }
   ],
   "source": [
    "# Cartpole Dynamics\n",
    "# TODO: measure mc mp and l\n",
    "mc = 0.1  # mass of the cart in kg (10)\n",
    "mp = 0.18   # mass of the pole (point mass at the end) in kg\n",
    "l = 0.35   # length of the pole in m\n",
    "g = 9.81  # gravity m/s^2\n",
    "\n",
    "a = Cartpole(mc, mp, l, g)\n",
    "h = 1/100\n",
    "\n",
    "function dynamics_rk4(x,u)\n",
    "    #RK4 integration with zero-order hold on u\n",
    "    f1 = RobotDynamics.dynamics(a, x, u)\n",
    "    f2 = RobotDynamics.dynamics(a, x + 0.5*h*f1, u)\n",
    "    f3 = RobotDynamics.dynamics(a, x + 0.5*h*f2, u)\n",
    "    f4 = RobotDynamics.dynamics(a, x + h*f3, u)\n",
    "    return x + (h/6.0)*(f1 + 2*f2 + 2*f3 + f4)\n",
    "end\n",
    "\n",
    "##\n",
    "\n",
    "Nx = 4     # number of state\n",
    "Nu = 1     # number of controls\n",
    "Tfinal = 5.0 # final time\n",
    "Nt = Int(Tfinal/h)+1    # number of time steps\n",
    "thist = Array(range(0,h*(Nt-1), step=h));\n",
    "\n",
    "##\n",
    "\n",
    "# Cost weights\n",
    "\n",
    "# TODO: tune these!\n",
    "Q = collect(Diagonal([1.0*ones(2); 1.0*ones(2)]));\n",
    "R = 0.1;\n",
    "Qn = Array(100.0*I(Nx));\n",
    "\n",
    "##\n",
    "\n",
    "# Goal state\n",
    "xg = [0; pi/2; 0; 0];\n",
    "\n",
    "##\n",
    "\n",
    "# Linearized state and control matrices\n",
    "A = ForwardDiff.jacobian(dx->dynamics_rk4(dx, 0), xg)\n",
    "B = ForwardDiff.derivative(du->dynamics_rk4(xg, du), 0)\n",
    "display(Q)\n",
    "display(A)\n",
    "display(B)\n",
    "\n",
    "##\n",
    "\n",
    "# Might need to invert some of the gains depending on rotation / translation directions of the joints\n",
    "K = dlqr(A,B,Q,R)\n",
    "\n"
   ]
  },
  {
   "cell_type": "code",
   "execution_count": 17,
   "metadata": {},
   "outputs": [
    {
     "name": "stdout",
     "output_type": "stream",
     "text": [
      "[0.0]"
     ]
    }
   ],
   "source": [
    "# state vector = [x, theta, xdot, thetadot]\n",
    "test_vector = [0, 0, 0, 0]\n",
    "test_control = -K*test_vector\n",
    "print(test_control)"
   ]
  },
  {
   "cell_type": "code",
   "execution_count": 20,
   "metadata": {},
   "outputs": [
    {
     "name": "stdout",
     "output_type": "stream",
     "text": [
      "[-0.14791402981049404]"
     ]
    }
   ],
   "source": [
    "test_vector = [-0.05, 0, 0, 0]\n",
    "test_control = -K*test_vector\n",
    "print(test_control)"
   ]
  },
  {
   "cell_type": "code",
   "execution_count": 21,
   "metadata": {},
   "outputs": [
    {
     "name": "stdout",
     "output_type": "stream",
     "text": [
      "[0.14791402981049404]"
     ]
    }
   ],
   "source": [
    "test_vector = [0.05, 0, 0, 0]\n",
    "test_control = -K*test_vector\n",
    "print(test_control)"
   ]
  },
  {
   "cell_type": "code",
   "execution_count": 36,
   "metadata": {},
   "outputs": [
    {
     "name": "stdout",
     "output_type": "stream",
     "text": [
      "[0.46268724241519915]"
     ]
    }
   ],
   "source": [
    "test_vector = [0, 0.001, 0, -0.0001]\n",
    "test_control = -K*test_vector\n",
    "print(test_control)"
   ]
  },
  {
   "cell_type": "code",
   "execution_count": 37,
   "metadata": {},
   "outputs": [
    {
     "name": "stdout",
     "output_type": "stream",
     "text": [
      "[9.498735919335902]"
     ]
    }
   ],
   "source": [
    "test_vector = [0, 0.001, 0, 0.0001]\n",
    "test_control = -K*test_vector\n",
    "print(test_control)"
   ]
  },
  {
   "cell_type": "code",
   "execution_count": null,
   "metadata": {},
   "outputs": [],
   "source": []
  }
 ],
 "metadata": {
  "kernelspec": {
   "display_name": "Julia 1.9.3",
   "language": "julia",
   "name": "julia-1.9"
  },
  "language_info": {
   "file_extension": ".jl",
   "mimetype": "application/julia",
   "name": "julia",
   "version": "1.9.3"
  }
 },
 "nbformat": 4,
 "nbformat_minor": 2
}
